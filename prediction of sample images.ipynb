{
 "cells": [
  {
   "cell_type": "code",
   "execution_count": 1,
   "metadata": {},
   "outputs": [
    {
     "name": "stderr",
     "output_type": "stream",
     "text": [
      "Using TensorFlow backend.\n"
     ]
    }
   ],
   "source": [
    "import numpy  as np\n",
    "from keras.preprocessing import image\n",
    "from pathlib import Path\n",
    "from keras.models import load_model\n",
    "import pickle"
   ]
  },
  {
   "cell_type": "code",
   "execution_count": 2,
   "metadata": {},
   "outputs": [
    {
     "name": "stdout",
     "output_type": "stream",
     "text": [
      "mildDem676.jpg\n",
      "nonDem26 .jpg\n",
      "verymildDem1454.jpg\n",
      "Number of images:  3\n"
     ]
    }
   ],
   "source": [
    "p = Path(\"./sample_images\")\n",
    "\n",
    "img_name = []\n",
    "data = []\n",
    "cnt = 0\n",
    "for imgs in p.glob(\"*\"):\n",
    "    name = str(imgs).split(\"\\\\\")[-1]\n",
    "    print(name)\n",
    "    img_name.append(name)\n",
    "    img = image.load_img(imgs,target_size=(150,150))\n",
    "    img = image.img_to_array(img)\n",
    "    data.append(img)\n",
    "\n",
    "print(\"Number of images: \",len(data))"
   ]
  },
  {
   "cell_type": "code",
   "execution_count": 3,
   "metadata": {},
   "outputs": [
    {
     "name": "stdout",
     "output_type": "stream",
     "text": [
      "3\n"
     ]
    }
   ],
   "source": [
    "Xtest = np.array(data)\n",
    "print(len(Xtest))"
   ]
  },
  {
   "cell_type": "code",
   "execution_count": 4,
   "metadata": {},
   "outputs": [],
   "source": [
    "model = load_model(\"./model/alzheimers_model.hdf5\")"
   ]
  },
  {
   "cell_type": "code",
   "execution_count": 5,
   "metadata": {},
   "outputs": [],
   "source": [
    "output = model.predict(Xtest)"
   ]
  },
  {
   "cell_type": "code",
   "execution_count": 6,
   "metadata": {},
   "outputs": [],
   "source": [
    "with open(\"./model/reverse_dict.pkl\",'rb') as f:\n",
    "    reverse_dict = pickle.load(f)"
   ]
  },
  {
   "cell_type": "code",
   "execution_count": 7,
   "metadata": {},
   "outputs": [
    {
     "name": "stdout",
     "output_type": "stream",
     "text": [
      "3\n"
     ]
    }
   ],
   "source": [
    "result = []\n",
    "\n",
    "for i in range(len(output)):\n",
    "    result.append(reverse_dict[np.argmax(output[i])])\n",
    "print(len(result))"
   ]
  },
  {
   "cell_type": "code",
   "execution_count": 8,
   "metadata": {},
   "outputs": [
    {
     "name": "stdout",
     "output_type": "stream",
     "text": [
      "mildDem676.jpg  :  MildDemented\n",
      "nonDem26 .jpg  :  NonDemented\n",
      "verymildDem1454.jpg  :  VeryMildDemented\n"
     ]
    }
   ],
   "source": [
    "for i in range(len(img_name)):\n",
    "    print(img_name[i],\" : \",result[i])"
   ]
  },
  {
   "cell_type": "code",
   "execution_count": null,
   "metadata": {},
   "outputs": [],
   "source": []
  }
 ],
 "metadata": {
  "kernelspec": {
   "display_name": "Python 3",
   "language": "python",
   "name": "python3"
  },
  "language_info": {
   "codemirror_mode": {
    "name": "ipython",
    "version": 3
   },
   "file_extension": ".py",
   "mimetype": "text/x-python",
   "name": "python",
   "nbconvert_exporter": "python",
   "pygments_lexer": "ipython3",
   "version": "3.7.6"
  }
 },
 "nbformat": 4,
 "nbformat_minor": 4
}
